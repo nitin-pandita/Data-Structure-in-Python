{
 "cells": [
  {
   "cell_type": "code",
   "execution_count": 1,
   "id": "4270477c-3469-4b25-a226-290e65282aa7",
   "metadata": {},
   "outputs": [],
   "source": [
    "import cv2"
   ]
  },
  {
   "cell_type": "code",
   "execution_count": 2,
   "id": "dae89e54-53f0-4436-b270-cf894c86ad2a",
   "metadata": {},
   "outputs": [],
   "source": [
    "from cvzone.HandTrackingModule import HandDetector"
   ]
  },
  {
   "cell_type": "code",
   "execution_count": 3,
   "id": "b4ab3278-ea15-4a72-b61b-1809f5719233",
   "metadata": {},
   "outputs": [],
   "source": [
    "import math"
   ]
  },
  {
   "cell_type": "code",
   "execution_count": 4,
   "id": "0791b4f0-92b7-46f6-9487-29c7c09f0924",
   "metadata": {},
   "outputs": [
    {
     "data": {
      "text/plain": [
       "True"
      ]
     },
     "execution_count": 4,
     "metadata": {},
     "output_type": "execute_result"
    }
   ],
   "source": [
    "# for the webcam\n",
    "cap = cv2.VideoCapture(0)\n",
    "cap.set(3,1200)\n",
    "cap.set(4,720)\n"
   ]
  },
  {
   "cell_type": "code",
   "execution_count": 5,
   "id": "83633e2a-30a2-42ab-8085-21fbc4b8b986",
   "metadata": {},
   "outputs": [],
   "source": [
    "detector = HandDetector(detectionCon=0.8, maxHands=1)"
   ]
  },
  {
   "cell_type": "code",
   "execution_count": null,
   "id": "c6242e50-5f4b-47fc-94a5-702d12f31724",
   "metadata": {},
   "outputs": [],
   "source": [
    "while True:\n",
    "    sucess, img = cap.read()\n",
    "    hand, img = detector.findHands(img)\n",
    "    cv2.imshow(\"Image\", img)\n",
    "    cv2.waitKey(1)"
   ]
  }
 ],
 "metadata": {
  "kernelspec": {
   "display_name": "Python 3 (ipykernel)",
   "language": "python",
   "name": "python3"
  },
  "language_info": {
   "codemirror_mode": {
    "name": "ipython",
    "version": 3
   },
   "file_extension": ".py",
   "mimetype": "text/x-python",
   "name": "python",
   "nbconvert_exporter": "python",
   "pygments_lexer": "ipython3",
   "version": "3.11.4"
  }
 },
 "nbformat": 4,
 "nbformat_minor": 5
}
